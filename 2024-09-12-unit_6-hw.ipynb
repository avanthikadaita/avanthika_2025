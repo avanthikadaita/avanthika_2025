{
 "cells": [
  {
   "cell_type": "raw",
   "metadata": {},
   "source": [
    "---\n",
    "layout: post\n",
    "type: collab\n",
    "title: Unit 6.2 - Arrays\n",
    "description: Unit 6 Team Teach - Arrays\n",
    "comments: true\n",
    "permalink: /csa/unit6-p1/unit6-2\n",
    "menu: nav/CSA_Units/csa_unit6_p1.html\n",
    "---"
   ]
  },
  {
   "cell_type": "markdown",
   "metadata": {},
   "source": [
    "# Homework:\n",
    "\n",
    " Have the code print \"Man, you guys need to study more\" if the grades are beneath a certain percentage. \n",
    " \n",
    " Bonus:\n",
    " Have the code iterate through the list and add some points to each grade because you're a very generous grader."
   ]
  },
  {
   "cell_type": "code",
   "execution_count": 2,
   "metadata": {
    "vscode": {
     "languageId": "java"
    }
   },
   "outputs": [
    {
     "name": "stdout",
     "output_type": "stream",
     "text": [
      "The average of the grades is: 67.83333333333333\n"
     ]
    }
   ],
   "source": [
    "public class GradeAverage {\n",
    "    public static void main(String[] args) {\n",
    "        int[] grades = {90, 50, 70, 20, 80, 97};\n",
    "        int sum = 0;\n",
    "        double average;\n",
    "        \n",
    "        for (int i = 0; i < grades.length; i++) {\n",
    "            sum += grades[i]; \n",
    "        }\n",
    "        \n",
    "        average = (double) sum / grades.length;\n",
    "        \n",
    "        System.out.println(\"The average of the grades is: \" + average);\n",
    "\n",
    "        if (average < 60) {\n",
    "            System.out.println(\"Man, you guys need to study more\");\n",
    "        }\n",
    "    }\n",
    "}\n",
    "\n",
    "GradeAverage.main(null);\n"
   ]
  },
  {
   "cell_type": "code",
   "execution_count": 3,
   "metadata": {
    "vscode": {
     "languageId": "java"
    }
   },
   "outputs": [
    {
     "name": "stdout",
     "output_type": "stream",
     "text": [
      "The new average of the grades is: 72.83333333333333\n"
     ]
    }
   ],
   "source": [
    "public class GradeAverage {\n",
    "    public static void main(String[] args) {\n",
    "        int[] grades = {90, 50, 70, 20, 80, 97};\n",
    "        int sum = 0;\n",
    "        double average;\n",
    "        int generousPoints = 5; \n",
    "        \n",
    "        for (int i = 0; i < grades.length; i++) {\n",
    "            grades[i] += generousPoints;\n",
    "        }\n",
    "        \n",
    "        for (int i = 0; i < grades.length; i++) {\n",
    "            sum += grades[i]; \n",
    "        }\n",
    "\n",
    "        average = (double) sum / grades.length;\n",
    "        \n",
    "        System.out.println(\"The new average of the grades is: \" + average);\n",
    "\n",
    "        if (average < 60) {\n",
    "            System.out.println(\"Man, you guys need to study more\");\n",
    "        }\n",
    "    }\n",
    "}\n",
    "\n",
    "GradeAverage.main(null);\n"
   ]
  }
 ],
 "metadata": {
  "kernelspec": {
   "display_name": "Java",
   "language": "java",
   "name": "java"
  },
  "language_info": {
   "codemirror_mode": "java",
   "file_extension": ".jshell",
   "mimetype": "text/x-java-source",
   "name": "Java",
   "pygments_lexer": "java",
   "version": "17.0.12+0"
  }
 },
 "nbformat": 4,
 "nbformat_minor": 2
}
