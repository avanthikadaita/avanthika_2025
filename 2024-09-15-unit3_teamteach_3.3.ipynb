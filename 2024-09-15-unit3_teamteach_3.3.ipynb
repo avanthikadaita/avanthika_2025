{
 "cells": [
  {
   "cell_type": "raw",
   "metadata": {
    "vscode": {
     "languageId": "raw"
    }
   },
   "source": [
    "---\n",
    "layout: post\n",
    "title: Unit 3 Team Teach - 3.3\n",
    "description: Unit 3 Team Teach\n",
    "comments: true\n",
    "menu: nav/CSA_Units/csa_unit3_p1.html\n",
    "permalink: /csa/unit3-p1/unit3-3\n",
    "author: Alisha Hussain, Anika Bhatnagar, Kayden Le, Sharon Kodali\n",
    "---"
   ]
  },
  {
   "cell_type": "markdown",
   "metadata": {},
   "source": [
    "# 3.3 If Else Statements\n",
    "\n",
    "<a id=\"if-else-statements\"></a>\n",
    "## Purpose of Else Statements\n",
    "Else statements: Handles what happens when the if condition is false.\n",
    "Structure of If-Else:\n",
    "- If statement with a condition.\n",
    "- Else statement without a condition.\n",
    "- Both parts have code blocks surrounded by {}.\n",
    "\n"
   ]
  },
  {
   "cell_type": "markdown",
   "metadata": {},
   "source": [
    "# don't forget the brackets "
   ]
  },
  {
   "cell_type": "code",
   "execution_count": 1,
   "metadata": {},
   "outputs": [
    {
     "name": "stdout",
     "output_type": "stream",
     "text": [
      "x is greater than 10\n",
      "This code runs when the condition is true\n"
     ]
    }
   ],
   "source": [
    "int x = 20;\n",
    "if (x > 10) {\n",
    "    System.out.println(\"x is greater than 10\");\n",
    "    System.out.println(\"This code runs when the condition is true\");\n",
    "} else {\n",
    "    System.out.println(\"x is 10 or less\");\n",
    "    System.out.println(\"This code runs when the condition is false\");\n",
    "}\n"
   ]
  },
  {
   "cell_type": "markdown",
   "metadata": {},
   "source": [
    "<img width=\"816\" alt=\"image\" src=\"https://github.com/user-attachments/assets/c6701143-b87f-427b-a206-6cee0660571c\">\n",
    "\n",
    "1. Based on this code, if you were younger than 16 what would it print out?\n",
    "2. Write your own if else statement"
   ]
  },
  {
   "cell_type": "code",
   "execution_count": 4,
   "metadata": {},
   "outputs": [
    {
     "name": "stdout",
     "output_type": "stream",
     "text": [
      "You cannot learn to drive yet.\n"
     ]
    }
   ],
   "source": [
    "int myAge = 15;\n",
    "if (myAge >= 16) {\n",
    "    System.out.println(\"You can start learning to drive!\");\n",
    "} else {\n",
    "    System.out.println(\"You cannot learn to drive yet.\");\n",
    "}"
   ]
  },
  {
   "cell_type": "code",
   "execution_count": 2,
   "metadata": {},
   "outputs": [],
   "source": [
    "public static void main(String[] args) {\n",
    "    int age = 18;\n",
    "\n",
    "    if (age >= 18) {\n",
    "        System.out.println(\"You are eligible to vote.\");\n",
    "    } else {\n",
    "        System.out.println(\"You are not eligible to vote.\");\n",
    "    }\n",
    "}"
   ]
  },
  {
   "cell_type": "code",
   "execution_count": 1,
   "metadata": {},
   "outputs": [
    {
     "name": "stdout",
     "output_type": "stream",
     "text": [
      "20 is greater than 18\n"
     ]
    }
   ],
   "source": [
    "if (20 > 18) {\n",
    "    System.out.println(\"20 is greater than 18\");\n",
    "  }"
   ]
  }
 ],
 "metadata": {
  "kernelspec": {
   "display_name": "Java",
   "language": "java",
   "name": "java"
  },
  "language_info": {
   "codemirror_mode": "java",
   "file_extension": ".jshell",
   "mimetype": "text/x-java-source",
   "name": "java",
   "pygments_lexer": "java",
   "version": "17.0.12+0"
  }
 },
 "nbformat": 4,
 "nbformat_minor": 2
}
