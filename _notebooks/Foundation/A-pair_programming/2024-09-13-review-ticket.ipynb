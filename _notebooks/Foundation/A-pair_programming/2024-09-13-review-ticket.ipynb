{
 "cells": [
  {
   "cell_type": "raw",
   "metadata": {
    "vscode": {
     "languageId": "raw"
    }
   },
   "source": [
    "---\n",
    "layout: post\n",
    "title: Review Ticket\n",
    "description: Establishing pair programming habits in the classroom.  This will extend to other forms of collaboration, such as group work and team projects. \n",
    "categories: [Collaboration]\n",
    "courses: { csse: {week: 1}, csp: {week: 1}, csa: {week: 1} }\n",
    "menu: nav/pair_programming.html\n",
    "permalink: /pair/habits\n",
    "type: collab\n",
    "comments: true\n",
    "sticky_rank: 1\n",
    "---"
   ]
  },
  {
   "cell_type": "markdown",
   "metadata": {},
   "source": [
    "| Assignment            | Link                   |\n",
    "|-----------------------|------------------------|\n",
    "| Tools/Equipment       | [Shell Script](https://avanthikadaita.github.io/avanthika_2025/devops/tools/verify)       |\n",
    "| Frontend Development   | [Frontend Development](https://avanthikadaita.github.io/avanthika_2025/devops/hacks) |\n",
    "| Github Pages Hacks     | [Github Pages Hacks](https://avanthikadaita.github.io/avanthika_2025/about/) |\n",
    "| SASS Hacks            | [Styling](https://avanthikadaita.github.io/avanthika_2025/)           |\n",
    "| Pair Programming      | [Bubble Popper](/\\)    |"
   ]
  }
 ],
 "metadata": {
  "kernelspec": {
   "display_name": "Python 3",
   "language": "python",
   "name": "python3"
  },
  "language_info": {
   "codemirror_mode": {
    "name": "ipython",
    "version": 3
   },
   "file_extension": ".py",
   "mimetype": "text/x-python",
   "name": "python",
   "nbconvert_exporter": "python",
   "pygments_lexer": "ipython3",
   "version": "3.11.9"
  },
  "orig_nbformat": 4
 },
 "nbformat": 4,
 "nbformat_minor": 2
}
