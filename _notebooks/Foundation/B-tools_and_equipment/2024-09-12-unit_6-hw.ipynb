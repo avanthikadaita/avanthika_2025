{
 "cells": [
  {
   "cell_type": "raw",
   "metadata": {},
   "source": [
    "---\n",
    "layout: post\n",
    "type: collab\n",
    "title: Unit 6.2 - Arrays\n",
    "description: Unit 6 Team Teach - Arrays\n",
    "comments: true\n",
    "permalink: /csa/unit6-p1/unit6-2\n",
    "menu: nav/CSA_Units/csa_unit6_p1.html\n",
    "---"
   ]
  },
  {
   "cell_type": "markdown",
   "metadata": {},
   "source": [
    "# Unit 6 Team Teach Homework:"
   ]
  },
  {
   "cell_type": "markdown",
   "metadata": {},
   "source": [
    "## Popcorn Hack 1(Time 0.5 minute)\n",
    "\n",
    "\n",
    "Create an array that represents numerous car brands(Audi, toyota,etc. )"
   ]
  },
  {
   "cell_type": "code",
   "execution_count": 8,
   "metadata": {
    "vscode": {
     "languageId": "java"
    }
   },
   "outputs": [
    {
     "name": "stdout",
     "output_type": "stream",
     "text": [
      "[Audi, Toyota, Honda, BMW, Tesla]\n"
     ]
    }
   ],
   "source": [
    "String[] carBrands = {\"Audi\", \"Toyota\", \"Honda\", \"BMW\", \"Tesla\"};\n",
    "System.out.println(Arrays.toString(carBrands));"
   ]
  },
  {
   "cell_type": "markdown",
   "metadata": {},
   "source": [
    "## Popcorn Hack #2(Time 1.5 Minutes)\n",
    "\n",
    "\n",
    "Make an array of chars, representing people's grades\n",
    "\n",
    "\n",
    "Try to adjust the letter grade of at least 3 people\n"
   ]
  },
  {
   "cell_type": "code",
   "execution_count": 9,
   "metadata": {
    "vscode": {
     "languageId": "java"
    }
   },
   "outputs": [
    {
     "name": "stdout",
     "output_type": "stream",
     "text": [
      "Before: [A, B, C, D, F]\n",
      "After: [A, A, C, C, D]\n"
     ]
    }
   ],
   "source": [
    "char[] grades = {'A', 'B', 'C', 'D', 'F'};\n",
    "System.out.println(\"Before: \" + Arrays.toString(grades));\n",
    "\n",
    "// Adjusting the grades\n",
    "grades[1] = 'A';\n",
    "grades[3] = 'C';\n",
    "grades[4] = 'D';\n",
    "\n",
    "System.out.println(\"After: \" + Arrays.toString(grades));"
   ]
  },
  {
   "cell_type": "markdown",
   "metadata": {},
   "source": [
    "## Popcorn hack question\n",
    "\n",
    "Which part of the following code would I want to change if I wanted to access all odd indices of the list."
   ]
  },
  {
   "cell_type": "code",
   "execution_count": 10,
   "metadata": {
    "vscode": {
     "languageId": "java"
    }
   },
   "outputs": [
    {
     "name": "stdout",
     "output_type": "stream",
     "text": [
      "Odd Index\n",
      "1\n",
      "3\n",
      "5\n"
     ]
    }
   ],
   "source": [
    "int[] list = {0, 1, 2, 3, 4, 5};\n",
    "System.out.println(\"Odd Index\");\n",
    "for (int index = 1; index < list.length; index += 2) {  // Start at 1 for odd indices\n",
    "    System.out.println(list[index]);\n",
    "}"
   ]
  },
  {
   "cell_type": "markdown",
   "metadata": {},
   "source": [
    "## Popcorn hack question:\n",
    "\n",
    "This while loop and the for loop we used earlier accomplish the same task. The main difference is that after the loop is completed, the variable 'index' in the while loop will still exist. The variable 'i' in the for loop will not. Why?"
   ]
  },
  {
   "cell_type": "markdown",
   "metadata": {
    "vscode": {
     "languageId": "java"
    }
   },
   "source": [
    "In the while loop, the index variable is declared outside the loop, so it still exists after the loop ends. But, in the for loop, the loop variable (i) is declared within the loop and only exists within the scope of the loop. Once the loop ends, i no longer exists."
   ]
  },
  {
   "cell_type": "markdown",
   "metadata": {},
   "source": [
    "## Popcorn Hack:\n",
    "\n",
    "Create/complete the code in order to return the average grade of all grades in the list of grades."
   ]
  },
  {
   "cell_type": "code",
   "execution_count": 11,
   "metadata": {
    "vscode": {
     "languageId": "java"
    }
   },
   "outputs": [
    {
     "name": "stdout",
     "output_type": "stream",
     "text": [
      "The average of the grades is: 67.83333333333333\n",
      "After adding 5 points to each grade:\n",
      "Grade 1: 95\n",
      "Grade 2: 55\n",
      "Grade 3: 75\n",
      "Grade 4: 25\n",
      "Grade 5: 85\n",
      "Grade 6: 102\n"
     ]
    }
   ],
   "source": [
    "public class GradeAverage {\n",
    "    public static void main(String[] args) {\n",
    "        int[] grades = {90, 50, 70, 20, 80, 97};\n",
    "        int sum = 0;\n",
    "        double average;\n",
    "        \n",
    "        for (int i = 0; i < grades.length; i++) {\n",
    "            sum += grades[i];\n",
    "        }\n",
    "        \n",
    "        average = (double) sum / grades.length;\n",
    "        System.out.println(\"The average of the grades is: \" + average);\n",
    "        \n",
    "        if (average < 60) {\n",
    "            System.out.println(\"Man, you guys need to study more.\");\n",
    "        }\n",
    "        \n",
    "        System.out.println(\"After adding 5 points to each grade:\");\n",
    "        for (int i = 0; i < grades.length; i++) {\n",
    "            grades[i] += 5; \n",
    "            System.out.println(\"Grade \" + (i + 1) + \": \" + grades[i]);\n",
    "        }\n",
    "    }\n",
    "}\n",
    "\n",
    "GradeAverage.main(null);"
   ]
  },
  {
   "cell_type": "markdown",
   "metadata": {},
   "source": [
    "## Homework:\n",
    "\n",
    " Have the code print \"Man, you guys need to study more\" if the grades are beneath a certain percentage. \n",
    " \n",
    " Bonus:\n",
    " Have the code iterate through the list and add some points to each grade because you're a very generous grader."
   ]
  },
  {
   "cell_type": "code",
   "execution_count": 12,
   "metadata": {
    "vscode": {
     "languageId": "java"
    }
   },
   "outputs": [
    {
     "name": "stdout",
     "output_type": "stream",
     "text": [
      "The average of the grades is: 67.83333333333333\n"
     ]
    }
   ],
   "source": [
    "public class GradeAverage {\n",
    "    public static void main(String[] args) {\n",
    "        int[] grades = {90, 50, 70, 20, 80, 97};\n",
    "        int sum = 0;\n",
    "        double average;\n",
    "        \n",
    "        for (int i = 0; i < grades.length; i++) {\n",
    "            sum += grades[i]; \n",
    "        }\n",
    "        \n",
    "        average = (double) sum / grades.length;\n",
    "        \n",
    "        System.out.println(\"The average of the grades is: \" + average);\n",
    "\n",
    "        if (average < 60) {\n",
    "            System.out.println(\"Man, you guys need to study more\");\n",
    "        }\n",
    "    }\n",
    "}\n",
    "\n",
    "GradeAverage.main(null);\n"
   ]
  },
  {
   "cell_type": "code",
   "execution_count": 13,
   "metadata": {
    "vscode": {
     "languageId": "java"
    }
   },
   "outputs": [
    {
     "name": "stdout",
     "output_type": "stream",
     "text": [
      "The new average of the grades is: 72.83333333333333\n"
     ]
    }
   ],
   "source": [
    "public class GradeAverage {\n",
    "    public static void main(String[] args) {\n",
    "        int[] grades = {90, 50, 70, 20, 80, 97};\n",
    "        int sum = 0;\n",
    "        double average;\n",
    "        int generousPoints = 5; \n",
    "        \n",
    "        for (int i = 0; i < grades.length; i++) {\n",
    "            grades[i] += generousPoints;\n",
    "        }\n",
    "        \n",
    "        for (int i = 0; i < grades.length; i++) {\n",
    "            sum += grades[i]; \n",
    "        }\n",
    "\n",
    "        average = (double) sum / grades.length;\n",
    "        \n",
    "        System.out.println(\"The new average of the grades is: \" + average);\n",
    "\n",
    "        if (average < 60) {\n",
    "            System.out.println(\"Man, you guys need to study more\");\n",
    "        }\n",
    "    }\n",
    "}\n",
    "\n",
    "GradeAverage.main(null);\n"
   ]
  },
  {
   "cell_type": "markdown",
   "metadata": {},
   "source": [
    "## Popcorn Hack: Rewrite For Loop with For Each Loop\n",
    "You are working as an intern for a car sales company at their IT department. Your new task your boss gave you is to post the prices and names of the newest cars to be sold The previous IT developer couldnt get their for loop to work. Could you fix the issue?\n",
    "\n",
    "Given the following code, rewrite the script to use a for each loop instead of the for loop and fix the problem"
   ]
  },
  {
   "cell_type": "code",
   "execution_count": 14,
   "metadata": {
    "vscode": {
     "languageId": "java"
    }
   },
   "outputs": [
    {
     "name": "stdout",
     "output_type": "stream",
     "text": [
      "Car: CSAwesomeCar, Price: $500\n",
      "Car: ArrayceCar, Price: $5000\n",
      "Car: MortMobile, Price: $9999\n"
     ]
    }
   ],
   "source": [
    "import java.util.HashMap;\n",
    "import java.util.Map;\n",
    "\n",
    "public class CarSales {\n",
    "    public static void main(String[] args) {\n",
    "        Map<String, Integer> carMap = new HashMap<String, Integer>();\n",
    "\n",
    "        carMap.put(\"MortMobile\", 9999);\n",
    "        carMap.put(\"CSAwesomeCar\", 500);\n",
    "        carMap.put(\"ArrayceCar\", 5000);\n",
    "\n",
    "        // Corrected: Using a for-each loop to iterate through the HashMap\n",
    "        for (Map.Entry<String, Integer> entry : carMap.entrySet()) {\n",
    "            System.out.println(\"Car: \" + entry.getKey() + \", Price: $\" + entry.getValue());\n",
    "        }\n",
    "    }\n",
    "}\n",
    "\n",
    "CarSales.main(null);"
   ]
  },
  {
   "cell_type": "markdown",
   "metadata": {},
   "source": [
    "## Popcorn Hack\n",
    "Implement a function to find the minimum of the EVEN INDEXED elements in array of integers."
   ]
  },
  {
   "cell_type": "code",
   "execution_count": 15,
   "metadata": {
    "vscode": {
     "languageId": "java"
    }
   },
   "outputs": [
    {
     "name": "stdout",
     "output_type": "stream",
     "text": [
      "Minimum at even indices: 2\n"
     ]
    }
   ],
   "source": [
    "public class MinEvenIndexed {\n",
    "    private static int findMinEven(int[] values) {\n",
    "        if (values.length == 0) {\n",
    "            throw new IllegalArgumentException(\"Array cannot be empty\");\n",
    "        }\n",
    "        \n",
    "        int min = values[0];\n",
    "        \n",
    "        for (int i = 0; i < values.length; i += 2) {  \n",
    "            if (values[i] < min) {\n",
    "                min = values[i];\n",
    "            }\n",
    "        }\n",
    "        return min;\n",
    "    }\n",
    "\n",
    "    public static void main(String[] args) {\n",
    "        int[] nums = {10, 5, 7, 4, 2, 11, 6};\n",
    "        System.out.println(\"Minimum at even indices: \" + findMinEven(nums));\n",
    "    }\n",
    "}\n",
    "\n",
    "MinEvenIndexed.main(null);"
   ]
  },
  {
   "cell_type": "markdown",
   "metadata": {},
   "source": [
    "## Challenge Hack: Create a function that iterates through every X items and shifts only those elements Y shift left.\n",
    "\n",
    "Example: ({1, 2, 3, 4, 5, 6}, Y = 1, X = 2) Output: {5, 2, 1, 4, 3, 6}\n",
    "\n",
    "Example: ({1, 2, 3, 4, 5, 6, 7, 8, 9, 10}, Y = 2, X = 3) Output: {10, 2, 3, 1, 5, 6, 4, 8, 9, 7}"
   ]
  },
  {
   "cell_type": "code",
   "execution_count": 16,
   "metadata": {
    "vscode": {
     "languageId": "java"
    }
   },
   "outputs": [
    {
     "name": "stdout",
     "output_type": "stream",
     "text": [
      "3\n",
      "1\n",
      "2\n",
      "6\n",
      "4\n",
      "5\n",
      "9\n",
      "7\n",
      "8\n",
      "10\n"
     ]
    }
   ],
   "source": [
    "public class ShiftXItemsYLeft {\n",
    "    private static int[] shiftRight(int[] values, int shift, int space) {\n",
    "        int[] shifted = values.clone();  \n",
    "\n",
    "        for (int i = 0; i < values.length; i += space) {\n",
    "            for (int j = 0; j < shift; j++) {\n",
    "                int temp = shifted[i];\n",
    "                \n",
    "                for (int k = i; k < i + space - 1 && k < values.length - 1; k++) {\n",
    "                    shifted[k] = shifted[k + 1];\n",
    "                }\n",
    "                \n",
    "                shifted[Math.min(i + space - 1, values.length - 1)] = temp;\n",
    "            }\n",
    "        }\n",
    "        return shifted;\n",
    "    }\n",
    "\n",
    "    public static void main(String[] args) {\n",
    "        int[] numbers = {1, 2, 3, 4, 5, 6, 7, 8, 9, 10};\n",
    "        int shift = 2;\n",
    "        int space = 3;\n",
    "\n",
    "        int[] result = shiftRight(numbers, shift, space);\n",
    "        \n",
    "        for (int value : result) {\n",
    "            System.out.println(value);\n",
    "        }\n",
    "    }\n",
    "}\n",
    "\n",
    "ShiftXItemsYLeft.main(null);"
   ]
  }
 ],
 "metadata": {
  "kernelspec": {
   "display_name": "Java",
   "language": "java",
   "name": "java"
  },
  "language_info": {
   "codemirror_mode": "java",
   "file_extension": ".jshell",
   "mimetype": "text/x-java-source",
   "name": "Java",
   "pygments_lexer": "java",
   "version": "17.0.12+0"
  }
 },
 "nbformat": 4,
 "nbformat_minor": 2
}
