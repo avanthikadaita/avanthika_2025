{
 "cells": [
  {
   "cell_type": "raw",
   "metadata": {
    "vscode": {
     "languageId": "raw"
    }
   },
   "source": [
    "---\n",
    "toc: false\n",
    "comments: true\n",
    "layout: post\n",
    "title: Student Review\n",
    "type: ccc\n",
    "toc: true\n",
    "comments: true\n",
    "---"
   ]
  },
  {
   "cell_type": "markdown",
   "metadata": {},
   "source": [
    "# Contributions To PBL\n",
    "\n",
    "| Activity            | Image                   |\n",
    "|---------------------|------------------------|\n",
    "|Reminders Sidebar|<img width=\"193\" alt=\"Image\" src=\"https://github.com/user-attachments/assets/37910f08-5048-4baa-98d3-93fb43e96d89\" />|\n",
    "|Reminders with tomorrow's events|<img width=\"658\" alt=\"Image\" src=\"https://github.com/user-attachments/assets/021c9393-41cb-415d-a8a4-188181457b84\" />|\n",
    "|Adding events and styling for the adding and editing event forms|<img width=\"616\" alt=\"Image\" src=\"https://github.com/user-attachments/assets/d9341022-49d9-4056-930e-b0b4c89bb29f\" />|\n",
    "|Styling/CSS|<img width=\"913\" alt=\"Image\" src=\"https://github.com/user-attachments/assets/c26dd519-d602-4d95-b89c-84bb0611e696\" />|"
   ]
  },
  {
   "cell_type": "markdown",
   "metadata": {},
   "source": [
    "# Individiual Live Review\n",
    "\n",
    "| Activity            | Image                   |\n",
    "|---------------------|------------------------|\n",
    "|Analytics for CSA_Combined_Backend_Fork|<img width=\"999\" alt=\"Image\" src=\"https://github.com/user-attachments/assets/ea9ab193-4374-40f9-a093-9cf2ef227c7e\" />|\n",
    "|Analytics for CSA_Combined_Frontend_Fork|<img width=\"450\" alt=\"Image\" src=\"https://github.com/user-attachments/assets/8018603d-a092-42b8-8b26-c2bebe62262e\" />|\n",
    "|Github Analytics for portfolio_2025|<img width=\"457\" alt=\"Image\" src=\"https://github.com/user-attachments/assets/fc930697-a826-4548-a2fd-da2cba28d668\" />|\n",
    "|Github Analytics for spring_2025 |<img width=\"454\" alt=\"Image\" src=\"https://github.com/user-attachments/assets/e5ed8389-d449-463b-acd1-a1adc507aea6\" />|\n",
    "|Burndown |<img width=\"1088\" alt=\"Image\" src=\"https://github.com/user-attachments/assets/32b046dc-5620-41bc-bf2c-672ec79c0391\" />|\n",
    "|Login/Toolkit Usage|<img width=\"778\" alt=\"Image\" src=\"https://github.com/user-attachments/assets/2fc3a977-38b5-44a3-b40f-982818d49731\" />|\n",
    "|PBL Contributions|<img width=\"308\" alt=\"Image\" src=\"https://github.com/user-attachments/assets/11326af4-5391-44f7-8b67-a5c7c6539a90\" />|"
   ]
  }
 ],
 "metadata": {
  "language_info": {
   "name": "python"
  }
 },
 "nbformat": 4,
 "nbformat_minor": 2
}
