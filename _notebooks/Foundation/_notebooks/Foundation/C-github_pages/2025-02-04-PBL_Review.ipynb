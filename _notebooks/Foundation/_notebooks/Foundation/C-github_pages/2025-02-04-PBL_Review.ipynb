{
 "cells": [
  {
   "cell_type": "raw",
   "metadata": {
    "vscode": {
     "languageId": "raw"
    }
   },
   "source": [
    "---\n",
    "toc: false\n",
    "comments: true\n",
    "layout: post\n",
    "title: Final Exam/Retrospective for Trimester 2\n",
    "type: ccc\n",
    "toc: true\n",
    "comments: true\n",
    "---"
   ]
  },
  {
   "cell_type": "markdown",
   "metadata": {},
   "source": [
    "| Activity            | Image                   |\n",
    "|---------------------|------------------------|\n",
    "|Frontend Issues|<img width=\"457\" alt=\"Image\" src=\"https://i.ibb.co/05Y2pG1/Screenshot-2025-03-02-at-3-58-21-PM.png\" />|\n",
    "|Backend Issues|<img width=\"457\" alt=\"Image\" src=\"https://i.ibb.co/hJJDy8fd/Screenshot-2025-03-02-at-4-00-36-PM.png\" />|\n",
    "|Personal Burndown |<img width=\"1088\" alt=\"Image\" src=\"https://github.com/user-attachments/assets/bd9ad9d2-e6c3-4911-84b6-ce3414067ab2\" />|\n",
    "|Team Teach FRQ on Methods and Control Structures|<img width=\"457\" alt=\"Image\" src=\"https://i.ibb.co/LjMD8DT/Screenshot-2025-03-02-at-3-51-49-PM.png\" />|\n",
    "|Analytics for CSA_Combined_Backend_Fork|<img width=\"999\" alt=\"Image\" src=\"https://github.com/user-attachments/assets/ea9ab193-4374-40f9-a093-9cf2ef227c7e\" />|\n",
    "|Analytics for CSA_Combined_Frontend_Fork|<img width=\"450\" alt=\"Image\" src=\"https://github.com/user-attachments/assets/8018603d-a092-42b8-8b26-c2bebe62262e\" />|\n",
    "|Personal Blog|<img width=\"457\" alt=\"Image\" src=\"https://i.ibb.co/wZjJV3sW/Screenshot-2025-03-02-at-4-08-58-PM.png\" />|"
   ]
  },
  {
   "cell_type": "markdown",
   "metadata": {},
   "source": [
    "## Full Stack Feature Demo\n",
    "\n",
    "| Activity            | Image                   |\n",
    "|---------------------|------------------------|\n",
    "|Reminders Sidebar|<img width=\"193\" alt=\"Image\" src=\"https://github.com/user-attachments/assets/37910f08-5048-4baa-98d3-93fb43e96d89\" />|\n",
    "|Reminders with tomorrow's events|<img width=\"658\" alt=\"Image\" src=\"https://github.com/user-attachments/assets/021c9393-41cb-415d-a8a4-188181457b84\" />|\n",
    "|Adding events and styling for the adding and editing event forms|<img width=\"616\" alt=\"Image\" src=\"https://github.com/user-attachments/assets/d9341022-49d9-4056-930e-b0b4c89bb29f\" />|\n",
    "|Styling/CSS|<img width=\"913\" alt=\"Image\" src=\"https://github.com/user-attachments/assets/c26dd519-d602-4d95-b89c-84bb0611e696\" />|\n",
    "|Main Java|<img width=\"713\" alt=\"Image\" src=\"https://i.ibb.co/GvCBFLcr/Screenshot-2025-03-03-at-12-08-34-PM.png\" />\n",
    "|Main Java|<img width=\"713\" alt=\"Image\" src=\"https://i.ibb.co/Xf094pGP/Screenshot-2025-03-03-at-12-09-25-PM.png\" />\n",
    "|N@tM feedback| - Implement error messages in Slack<br> - Make it look prettier & more foolproof<br> - More feedback from the bot to the user (e.g., recognizing incorrect characters like `{}`)<br> - Auto-formatting so users know the patterns they are using<br> - Add \"week of x date\" feature<br> - Provide feedback like Google's \"Did you mean xyz?\"<br> - Example: `[Fri]:-> Did you mean [Fri]: ?`<br> - It's really cool that the code is already in use by teachers and students |"
   ]
  },
  {
   "cell_type": "markdown",
   "metadata": {},
   "source": [
    "## Key Feature Blog Write Up\n",
    "\n",
    "### Reminders:\n",
    "- **Upcoming Events Sidebar**: \n",
    "  - Displays upcoming events in a list format on the left side.\n",
    "  - Shows the event titles in a styled list.\n",
    "  - If no events are available, a message (\"No reminders for tomorrow\") is displayed.\n",
    "\n",
    "### Adding Events:\n",
    "- **Add Event Button**:\n",
    "  - When a user clicks on a date, a modal pops up to add a new event.\n",
    "  - The user can enter a title and description for the new event.\n",
    "  - After filling out the details, the user can click the **Save Changes** button to add the event to the calendar.\n",
    "  - The new event is then sent to the backend via a POST request.\n",
    "\n",
    "### Editing Events:\n",
    "- **Edit Existing Events**:\n",
    "  - When an event is clicked, a modal appears with the event's title and description.\n",
    "  - The user can edit these details and save the changes by clicking **Save Changes**.\n",
    "  - If changes are made, they are updated in the calendar using a PUT request to the backend.\n",
    "\n",
    "### Event Deletion:\n",
    "- **Delete Event**:\n",
    "  - A **Delete Event** button appears within the modal when viewing an event.\n",
    "  - Clicking this button removes the event from the calendar and sends a DELETE request to the backend to remove the event from the database.\n",
    "\n",
    "### Modal Behavior:\n",
    "- **Modal**:\n",
    "  - The modal pops up for adding, editing, or deleting an event.\n",
    "  - Users can close the modal by clicking the \"X\" (close button) or the overlay.\n"
   ]
  },
  {
   "cell_type": "markdown",
   "metadata": {},
   "source": [
    "## MCQ/FRQ\n",
    "\n",
    "| Activity            | Image                   |\n",
    "|---------------------|------------------------|\n",
    "|2014 MCQ + FRQ|<img width=\"793\" alt=\"Image\" src=\"https://i.ibb.co/tPbfX6Pf/Screenshot-2025-03-03-at-8-31-20-PM.png\" />|\n",
    "|2015 MCQ + FRQ|<img width=\"793\" alt=\"Image\" src=\"https://i.ibb.co/hxtHqNMQ/Screenshot-2025-03-03-at-8-30-44-PM.png\" />|"
   ]
  },
  {
   "cell_type": "markdown",
   "metadata": {},
   "source": [
    "## Summary\n",
    "\n",
    "## **Strengths & Weaknesses Reflection**  \n",
    "### **Strengths:**  \n",
    "- Engaged in both frontend and backend development\n",
    "- Effective problem-solving in adding event handling, modal interactions, and data organization\n",
    "- Attention to user experience, evident in my N@tM feedback and improvements in event reminders\n",
    "\n",
    "### **Weaknesses:**  \n",
    "- Improving visualization techniques such as DrawIO, could enhance documentation clarity\n",
    "- Improving the amount of time it's taking me to code and analyze code faster \n",
    "\n",
    "## **Next Steps and Project Plans**\n",
    "- **Enhancing UI/UX further**: Implementing additional feedback improvements to make event handling more intuitive\n",
    "- **Refining backend logic**: Strengthening API responses and error handling based on the issues identified\n",
    "- **Collaborating more actively**: Talking to other students to explain thhe calendar more in detail to expain how it functions\n",
    "\n",
    "### **Self-Grade Assessment**  \n",
    "5/5 - I documented the key activities I participated in during the 12 weeks, including frontend/backend issues, personal burndown, team teach FRQ, analytics for both frontend and backend, and my personal blog. I should work more on my blog and keeping it up to date. Especially with the team teaches that we did, as this will help me prepare for the AP Exam.\n",
    "\n",
    "1.8/2 points - Full Stack Feature Demo, include highlighting Java and N@tM feedback\n",
    "I included a detailed demonstration of the full-stack feature with images showing the reminders sidebar, event handling, and styling.\n",
    "I also included feedback from N@tM, which helped improve error handling in Slack. However, it would have been a better idea if we had created a feedback form for people to fill out with their input during N@TM\n",
    "\n",
    "0.8/1 point - I wrote a clear and concise blog post explaining the key features of the reminders functionality, including how users can add, edit, and delete events. I also included explanations of modal behavior. However, a better visualization would have been better\n",
    "\n",
    "1/1 - I completed all the MCQ and FRQs that were posted on college board"
   ]
  },
  {
   "cell_type": "markdown",
   "metadata": {},
   "source": [
    "Over the past 12 weeks, I worked on both frontend and backend development, fixing issues, improving features, and making the user experience better. One of my biggest contributions was to the event reminder system, where I helped with adding, editing, and deleting events, as well as improving the design and functionality.\n",
    "\n",
    "In terms of collaboration, I contributed to team discussions and retrospectives, but I could have done more to directly communicate with my team as we are in different classes. My N@TM feedback focused on making the project more user-friendly, like adding error messages, auto-formatting, and better feedback suggestions.\n",
    "\n",
    "Looking ahead, I want to continue learning full-stack development, improve my collaboration and communication skills, and explore opportunities like internships or coding competitions. I also plan to work on better visualizing my ideas using tools like DrawIO or Mermaid to improve my project presentations."
   ]
  }
 ],
 "metadata": {
  "language_info": {
   "name": "python"
  }
 },
 "nbformat": 4,
 "nbformat_minor": 2
}
