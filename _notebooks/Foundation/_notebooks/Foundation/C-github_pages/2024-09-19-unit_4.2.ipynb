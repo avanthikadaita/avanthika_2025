{
 "cells": [
  {
   "cell_type": "markdown",
   "metadata": {},
   "source": [
    "---\n",
    "layout: post\n",
    "type: collab\n",
    "title: Unit 4.2 - For Loops\n",
    "description: Unit 4 Team Teach\n",
    "comments: true\n",
    "permalink: /csa/unit4-p1/unit4-2\n",
    "menu: nav/CSA_Units/csa_unit4_p1.html\n",
    "author: hanlun, saaras, arthur, miheer, eshaan, beijan\n",
    "---"
   ]
  },
  {
   "cell_type": "markdown",
   "metadata": {},
   "source": [
    "## 4.2 For Loops\n",
    "Similar to while loops, for loops run until a condition is false. Format of for loop below: "
   ]
  },
  {
   "cell_type": "code",
   "execution_count": 3,
   "metadata": {
    "vscode": {
     "languageId": "java"
    }
   },
   "outputs": [
    {
     "name": "stdout",
     "output_type": "stream",
     "text": [
      "0\n",
      "1\n",
      "2\n",
      "3\n",
      "4\n"
     ]
    }
   ],
   "source": [
    "for (int i = 0; i < 5; i++) {\n",
    "    System.out.println(i);\n",
    "}"
   ]
  },
  {
   "cell_type": "markdown",
   "metadata": {},
   "source": [
    "## Explanation\n",
    "- in the above for loop: \n",
    "    - int i = 0 defines the iterating variable\n",
    "    - i < 5 is the condition (once i < 5 is false, this loop breaks)\n",
    "    - i++ is the incrementation of the iterating variable\n",
    "    - System.out.println(i); is the body code that runs every time the loop iterates"
   ]
  },
  {
   "cell_type": "markdown",
   "metadata": {},
   "source": [
    "## For Each Loops:\n",
    "- Apart from iterating using an incrementing variable, you can also iterate through items in a list.\n",
    "### Example of For Each loop below"
   ]
  },
  {
   "cell_type": "code",
   "execution_count": 4,
   "metadata": {
    "vscode": {
     "languageId": "java"
    }
   },
   "outputs": [
    {
     "name": "stdout",
     "output_type": "stream",
     "text": [
      "1\n",
      "2\n",
      "3\n",
      "4\n",
      "5\n"
     ]
    }
   ],
   "source": [
    "int[] list = {1, 2, 3, 4, 5}; // any list\n",
    "for (int item : list) { // for each item in the list, execute the body\n",
    "    System.out.println(item); // body code\n",
    "}"
   ]
  },
  {
   "cell_type": "code",
   "execution_count": 5,
   "metadata": {
    "vscode": {
     "languageId": "java"
    }
   },
   "outputs": [
    {
     "ename": "CompilationException",
     "evalue": "",
     "output_type": "error",
     "traceback": [
      "\u001b[1m\u001b[30m|   \u001b[1m\u001b[30m\u001b[0m\u001b[1m\u001b[30m\u001b[41m\u001b[0m\u001b[1m\u001b[30m#python version\u001b[0m",
      "\u001b[1m\u001b[31millegal character: '#'\u001b[0m",
      "",
      "\u001b[1m\u001b[30m|   \u001b[1m\u001b[30marray=\u001b[0m\u001b[1m\u001b[30m\u001b[41m\u001b[0m\u001b[1m\u001b[30m[1, 2, 3, 4, 5]\u001b[0m",
      "\u001b[1m\u001b[31millegal start of expression\u001b[0m",
      ""
     ]
    }
   ],
   "source": [
    "#python version\n",
    "array=[1, 2, 3, 4, 5]\n",
    "for i in array:\n",
    "    print(i)"
   ]
  },
  {
   "cell_type": "markdown",
   "metadata": {},
   "source": [
    "## Explanation:\n",
    "- in the above loop:\n",
    "    - int item : list - this line is saying that for each item in the list, execute code below\n",
    "    - System.out.println(num); - this line is the body code."
   ]
  },
  {
   "cell_type": "markdown",
   "metadata": {},
   "source": [
    "### Fun For Loop Hack:\n",
    "Create a program that iterates through a list of numbers (int_list = {0, 4, 51, 83, 92, 10, 123, 145}) using both a for loop and a for each loop, then split the numbers in the list into even/odd lists, and output them."
   ]
  },
  {
   "cell_type": "code",
   "execution_count": 2,
   "metadata": {
    "vscode": {
     "languageId": "java"
    }
   },
   "outputs": [
    {
     "name": "stdout",
     "output_type": "stream",
     "text": [
      "For loop - Even list: [0, 4, 92, 10]\n",
      "For loop - Odd list: [51, 83, 123, 145]\n",
      "For each loop - Even list: [0, 4, 92, 10]\n",
      "For each loop - Odd list: [51, 83, 123, 145]\n"
     ]
    }
   ],
   "source": [
    "import java.util.ArrayList;\n",
    "\n",
    "public class EvenOddSplit {\n",
    "    public static void main(String[] args) {\n",
    "        int[] intList = {0, 4, 51, 83, 92, 10, 123, 145};\n",
    "        \n",
    "        ArrayList<Integer> evenList = new ArrayList<>();\n",
    "        ArrayList<Integer> oddList = new ArrayList<>();\n",
    "        \n",
    "        for (int i = 0; i < intList.length; i++) {\n",
    "            if (intList[i] % 2 == 0) {\n",
    "                evenList.add(intList[i]);\n",
    "            } else {\n",
    "                oddList.add(intList[i]);\n",
    "            }\n",
    "        }\n",
    "\n",
    "        ArrayList<Integer> evenListForEach = new ArrayList<>();\n",
    "        ArrayList<Integer> oddListForEach = new ArrayList<>();\n",
    "        \n",
    "        for (int num : intList) {\n",
    "            if (num % 2 == 0) {\n",
    "                evenListForEach.add(num);\n",
    "            } else {\n",
    "                oddListForEach.add(num);\n",
    "            }\n",
    "        }\n",
    "\n",
    "        System.out.println(\"For loop - Even list: \" + evenList);\n",
    "        System.out.println(\"For loop - Odd list: \" + oddList);\n",
    "        System.out.println(\"For each loop - Even list: \" + evenListForEach);\n",
    "        System.out.println(\"For each loop - Odd list: \" + oddListForEach);\n",
    "    }\n",
    "}\n",
    "\n",
    "EvenOddSplit.main(null);"
   ]
  },
  {
   "cell_type": "markdown",
   "metadata": {},
   "source": [
    "<div style=\"position:fixed; bottom:10px; right:10px; width:100px; height:100px;\">\n",
    "    <canvas id=\"animationCanvas\" width=\"100\" height=\"100\" style=\"border:1px solid black;\"></canvas>\n",
    "</div>\n",
    "\n",
    "<!-- Controls for adjusting speed, size, and pause/play -->\n",
    "<div style=\"position:fixed; bottom:120px; right:10px; font-family: Arial, sans-serif;\">\n",
    "    <label for=\"speedControl\">Adjust Speed:</label>\n",
    "    <input type=\"range\" id=\"speedControl\" min=\"0.5\" max=\"5\" step=\"0.1\" value=\"2\">\n",
    "    <span id=\"speedValue\">2</span><br>\n",
    "    \n",
    "    <label for=\"sizeControl\">Adjust Size:</label>\n",
    "    <input type=\"range\" id=\"sizeControl\" min=\"5\" max=\"30\" step=\"1\" value=\"15\">\n",
    "    <span id=\"sizeValue\">15</span><br>\n",
    "\n",
    "    <button id=\"togglePause\">Pause</button><br>\n",
    "    <button id=\"resetBall\">Reset Ball</button><br>\n",
    "    \n",
    "    <p>Iteration: <span id=\"iterationCount\">0</span></p>\n",
    "    <p>Current Velocity: <span id=\"velocityDisplay\">2, 2</span></p>\n",
    "</div>\n",
    "\n",
    "<script>\n",
    "    let canvas = document.getElementById('animationCanvas');\n",
    "    let ctx = canvas.getContext('2d');\n",
    "    let ball = { x: 50, y: 50, radius: 15, dx: 2, dy: 2 };\n",
    "    let iteration = 0;\n",
    "    let isPaused = false;\n",
    "\n",
    "    function getRandomColor() {\n",
    "        const letters = '0123456789ABCDEF';\n",
    "        let color = '#';\n",
    "        for (let i = 0; i < 6; i++) {\n",
    "            color += letters[Math.floor(Math.random() * 16)];\n",
    "        }\n",
    "        return color;\n",
    "    }\n",
    "\n",
    "    function drawBall() {\n",
    "        ctx.clearRect(0, 0, canvas.width, canvas.height);\n",
    "        ctx.beginPath();\n",
    "        ctx.arc(ball.x, ball.y, ball.radius, 0, Math.PI * 2);\n",
    "        ctx.fillStyle = getRandomColor();\n",
    "        ctx.fill();\n",
    "        ctx.closePath();\n",
    "    }\n",
    "\n",
    "    function updateBallPosition() {\n",
    "        ball.x += ball.dx;\n",
    "        ball.y += ball.dy;\n",
    "\n",
    "        // Ball collision detection for left/right edges\n",
    "        if (ball.x + ball.radius > canvas.width || ball.x - ball.radius < 0) {\n",
    "            ball.dx = -ball.dx;\n",
    "        }\n",
    "        // Ball collision detection for top/bottom edges\n",
    "        if (ball.y + ball.radius > canvas.height || ball.y - ball.radius < 0) {\n",
    "            ball.dy = -ball.dy;\n",
    "        }\n",
    "    }\n",
    "\n",
    "    function updateIterationCount() {\n",
    "        document.getElementById(\"iterationCount\").innerText = iteration;\n",
    "        document.getElementById(\"velocityDisplay\").innerText = `${ball.dx.toFixed(2)}, ${ball.dy.toFixed(2)}`;\n",
    "        iteration++;\n",
    "    }\n",
    "\n",
    "    function animate() {\n",
    "        if (!isPaused) {\n",
    "            updateBallPosition();\n",
    "            drawBall();\n",
    "            updateIterationCount();\n",
    "        }\n",
    "        requestAnimationFrame(animate);\n",
    "    }\n",
    "\n",
    "    // Event listener to adjust speed dynamically\n",
    "    document.getElementById('speedControl').addEventListener('input', function() {\n",
    "        let speed = parseFloat(this.value);\n",
    "        ball.dx = (ball.dx > 0 ? speed : -speed); // Maintain direction\n",
    "        ball.dy = (ball.dy > 0 ? speed : -speed); // Maintain direction\n",
    "        document.getElementById(\"speedValue\").innerText = speed;\n",
    "    });\n",
    "\n",
    "    // Event listener to adjust size dynamically\n",
    "    document.getElementById('sizeControl').addEventListener('input', function() {\n",
    "        let newSize = parseInt(this.value);\n",
    "        ball.radius = newSize;\n",
    "        document.getElementById(\"sizeValue\").innerText = newSize;\n",
    "    });\n",
    "\n",
    "    // Toggle pause/play\n",
    "    document.getElementById('togglePause').addEventListener('click', function() {\n",
    "        isPaused = !isPaused;\n",
    "        this.innerText = isPaused ? 'Play' : 'Pause';\n",
    "    });\n",
    "\n",
    "    // Reset the ball's position and speed when the reset button is clicked\n",
    "    document.getElementById('resetBall').addEventListener('click', function() {\n",
    "        ball.x = 50;\n",
    "        ball.y = 50;\n",
    "        ball.dx = 2;\n",
    "        ball.dy = 2;\n",
    "        ball.radius = 15;\n",
    "        iteration = 0;\n",
    "        document.getElementById(\"sizeControl\").value = 15;\n",
    "        document.getElementById(\"sizeValue\").innerText = 15;\n",
    "    });\n",
    "\n",
    "    animate();\n",
    "</script>\n"
   ]
  }
 ],
 "metadata": {
  "kernelspec": {
   "display_name": "Java",
   "language": "java",
   "name": "java"
  },
  "language_info": {
   "codemirror_mode": "java",
   "file_extension": ".jshell",
   "mimetype": "text/x-java-source",
   "name": "Java",
   "pygments_lexer": "java",
   "version": "17.0.12+0"
  }
 },
 "nbformat": 4,
 "nbformat_minor": 2
}
