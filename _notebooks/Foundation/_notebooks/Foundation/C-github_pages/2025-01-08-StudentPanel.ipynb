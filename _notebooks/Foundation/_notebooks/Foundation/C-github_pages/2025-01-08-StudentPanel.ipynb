{
 "cells": [
  {
   "cell_type": "markdown",
   "metadata": {},
   "source": [
    "---\n",
    "layout: post\n",
    "toc: true\n",
    "title: Student Panel\n",
    "description: College students are interviewed\n",
    "categories: [AP CSA]\n",
    "---"
   ]
  },
  {
   "cell_type": "markdown",
   "metadata": {},
   "source": [
    "# 1st Student Panel\n",
    "\n",
    "## Inspiration for STEM\n",
    "- Science olympiad\n",
    "- Hacking\n",
    "- Project based hobbies\n",
    "\n",
    "## How did high school prepare you \n",
    "- Graded on knowedge more that functionality of code\n",
    "- Live reviews\n",
    "- CSA tools are widely used in everyday work (that many other students did not know how to use)\n",
    "\n",
    "## Communication\n",
    "- Talking to recruiters as they did in live reviews\n",
    "- Talking clear and concise rather than drifting off topic\n",
    "- Live review format iss similar to interviews format\n",
    "\n",
    "## Use of methodologies\n",
    "- Alige methodology helped better communicate ideas and puts you ahead of others\n",
    "- Flowcharts before starting to code ---> big part of communicating ideas\n",
    "\n",
    "## College Admissions\n",
    "-  Essays about project in CSA\n",
    "- Look at the your major and what the university provides\n",
    "\n",
    "## Closing\n",
    "- Taken a lot more community college classes in high school to get as many credits as possible ---> dual enrollment\n",
    "- Community college classes gives good revision when taking that same class again in college\n",
    "- Jobs don't care about GPA, they look at the kind of projects you have done and what technical skills you can provide\n",
    "- High school is a great time to transform your mind to programming\n",
    "- Extra curricular:\n",
    "                - made bunch of websites in high school that help in college\n",
    "                - science olympiad\n",
    "                - cyber patriot -> secore windows and servers\n",
    "                - research and internships -> cold emailing\n",
    "                - joined clubs in high school\n",
    "                - leet code\n",
    "![img](https://i.ibb.co/4R6JqrJ/Screenshot-2025-01-08-at-5-46-25-PM.png)\n",
    "\n",
    "\n",
    "\n",
    "# 2nd Student Panel\n",
    "\n",
    " - projects done in csa helped in interviews for jobs and internships\n",
    " - know how to use github was very useful in classes and clubs at college \n",
    " - the speaker described how csa helped with internships as they were experienced with vscode and had past projects which helped them display their knowledge \n",
    " - when doing college admission, talk about how and why you want to be in that specific class and what projects have you done to show your passion for your area of study\n",
    " - take community college courses --> dual enrollment\n",
    "\n",
    "\n",
    "\n",
    "\n",
    "![img](https://i.ibb.co/kG4jmzY/Screenshot-2025-01-14-at-11-14-51-AM.png)"
   ]
  }
 ],
 "metadata": {
  "language_info": {
   "name": "python"
  }
 },
 "nbformat": 4,
 "nbformat_minor": 2
}
