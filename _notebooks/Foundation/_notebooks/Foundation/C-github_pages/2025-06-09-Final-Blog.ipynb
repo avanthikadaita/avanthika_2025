{
 "cells": [
  {
   "cell_type": "markdown",
   "metadata": {},
   "source": [
    "---\n",
    "layout: post\n",
    "title: Final Blog\n",
    "description: Pratice FRQ + MC\n",
    "categories: [Collaboration]\n",
    "courses: { csse: {week: 1}, csp: {week: 1}, csa: {week: 1} }\n",
    "menu: nav/pair_programming.html\n",
    "permalink: /pair/habits\n",
    "comments: true\n",
    "sticky_rank: 1\n",
    "---"
   ]
  },
  {
   "cell_type": "code",
   "execution_count": null,
   "metadata": {
    "vscode": {
     "languageId": "markdown"
    }
   },
   "outputs": [],
   "source": [
    "## 1. Calendar UI & Styling\n",
    "Integrated FullCalendar: You set up FullCalendar (v5.11.0) for interactive calendar views (month, week, day).\n",
    "Responsive Design: Added custom CSS and Tailwind for mobile-friendly layouts and modern UI, including toolbar and modal styling.\n",
    "Custom Toolbar Buttons: Added filter buttons (All, CSA, CSP, CSSE) with unique colors and hover states.\n",
    "\n",
    "## 2. Event Data Handling\n",
    "API Integration:\n",
    "Fetches calendar events from /api/calendar/events.\n",
    "Fetches assignments from /api/assignments/.\n",
    "Error Handling:\n",
    "Logs HTTP errors and fetch exceptions.\n",
    "Alerts user on failed add/edit/delete operations.\n",
    "Event Parsing:\n",
    "Normalizes event data, assigns colors by class (CSA, CSP, CSSE, assignments).\n",
    "Handles date formatting and conversion for assignments.\n",
    "\n",
    "## 3. Event Filtering & Display\n",
    "Global Event Array: Maintains allEvents for filtering and re-rendering.\n",
    "Class Filtering: Implements filterEventsByClass to show events by course (CSA, CSP, CSSE) or all.\n",
    "Dynamic Calendar Rendering: Destroys and re-renders calendar on filter change or data update.\n",
    "\n",
    "## 4. Event Modal & CRUD Operations\n",
    "Modal UI:\n",
    "Shows event details on click.\n",
    "Allows editing and deleting existing events.\n",
    "Allows adding new events via date click.\n",
    "Add Event:\n",
    "Opens modal with empty fields.\n",
    "Sends POST to /api/calendar/add_event.\n",
    "Updates UI and re-fetches events on success.\n",
    "Edit Event:\n",
    "Enables editing fields in modal.\n",
    "Sends PUT to /api/calendar/edit/{id}.\n",
    "Updates event in UI on success.\n",
    "Delete Event:\n",
    "Confirms deletion.\n",
    "Sends DELETE to /api/calendar/delete/{id}.\n",
    "Removes event from UI on success.\n",
    "\n",
    "## 5. UX Improvements\n",
    "Keyboard Shortcuts: Closes modal on Escape key.\n",
    "Click Outside Modal: Closes modal when clicking outside.\n",
    "Tooltips: Shows event details on mouse hover.\n",
    "Slack Formatting Support:\n",
    "Converts Slack-style formatting (bold, italics, strikethrough, code, links) to HTML for event descriptions.\n",
    "Handles code blocks, inline code, and links safely.\n",
    "\n",
    "## 6. Utility Functions\n",
    "Date Formatting:\n",
    "formatDate for ISO date strings.\n",
    "formatDisplayDate for human-readable dates.\n",
    "HTML Escaping: Prevents XSS in event descriptions.\n",
    "Slack-to-HTML Converter: Robustly parses and converts Slack markup to HTML.\n",
    "\n",
    "## 7. General Structure\n",
    "Modular Functions: Clear separation of concerns (fetching, rendering, modal logic, formatting).\n",
    "Modern JavaScript: Uses ES6+ features and best practices.\n",
    "Integration with Backend: Relies on a Java backend for persistent storage and retrieval."
   ]
  }
 ],
 "metadata": {
  "language_info": {
   "name": "python"
  }
 },
 "nbformat": 4,
 "nbformat_minor": 2
}
