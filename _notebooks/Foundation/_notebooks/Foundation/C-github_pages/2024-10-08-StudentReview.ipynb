{
 "cells": [
  {
   "cell_type": "raw",
   "metadata": {
    "vscode": {
     "languageId": "raw"
    }
   },
   "source": [
    "---\n",
    "toc: false\n",
    "comments: true\n",
    "layout: post\n",
    "title: Student Review\n",
    "type: ccc\n",
    "toc: true\n",
    "comments: true\n",
    "---"
   ]
  },
  {
   "cell_type": "markdown",
   "metadata": {},
   "source": [
    "| **Assignment**             | **Points**    | **Grade** | **Evidence** |\n",
    "|----------------------------|---------------|-----------|--------------|\n",
    "| Pull Request (Integration) | 2             |           |![Pull Request](https://i.ibb.co/DGJtCxq/Screenshot-2024-10-09-at-11-47-18-PM.png)|\n",
    "| Relevancy Checklist (Peer) | 2             |           |https://nighthawkcoders.github.io/portfolio_2025/unit8lesson-p1|\n",
    "| Lesson (Group)             | 1             |           |https://nighthawkcoders.github.io/portfolio_2025/unit8lesson-p1      ![Teaching Segment](https://i.ibb.co/Ypbhrmk/Screenshot-2024-10-09-at-11-53-47-PM.png)|\n",
    "| Homework, Popcorn Hacks    | 1 x 8         |0.9+0.91+0.9+0.89+|https://avanthikadaita.github.io/avanthika_2025/pair/showcase\n",
    "| Individual Contribution    | 1             |           |![Commits Over Time](https://i.ibb.co/S3Tr9GZ/Screenshot-2024-10-10-at-8-47-30-AM.png)     https://github.com/7mwang/2D-Array-Lesson_2025/commits/main/|\n",
    "| Personal Notebooks / Blogs | 1             |           |https://avanthikadaita.github.io/avanthika_2025/pair/showcase|\n",
    "| Total                      | 12            |           |              |"
   ]
  },
  {
   "cell_type": "markdown",
   "metadata": {},
   "source": [
    "| **Skill**                  | **Points**    | **Grade** | **Evidence** |\n",
    "|----------------------------|---------------|-----------|--------------|\n",
    "| Work Habits (Analytics)    |   1           |           |![Github Analytics](https://i.ibb.co/h2q8vj1/Screenshot-2024-10-10-at-8-48-10-AM.png)|\n",
    "| Team Planning (Issue)      |   1           |           |https://github.com/avanthikadaita/avanthika_2025/issues/5|\n",
    "| Presentation Memories      |   1           |           |![image-2.png](https://i.ibb.co/Z66jYX7/Screenshot-2024-10-10-at-8-48-34-AM.png)  ![image-3.png](https://i.ibb.co/wMt9bbp/Screenshot-2024-10-10-at-8-48-45-AM.png)  ![image-4.png](https://i.ibb.co/Nghsrst/Screenshot-2024-10-10-at-8-48-55-AM.png)  ![image-5.png](https://i.ibb.co/zRZgZvC/Screenshot-2024-10-10-at-8-49-16-AM.png)  ![image-6.png](https://i.ibb.co/hWrCtmZ/Screenshot-2024-10-10-at-8-49-07-AM.png)|\n",
    "| Grading and Feedback       |   1           |           |https://docs.google.com/spreadsheets/d/1jYd1wNuI3DYkwPON9QLqkNMV9_eoeDTWnHPtuYELks8/edit?usp=sharing|\n",
    "| Beyond Perfunctory         |   1           |           |Changed over 200 lines as shown in commit history:  ![Commit History](https://i.ibb.co/Jn5bsjc/Screenshot-2024-10-10-at-8-49-53-AM.png)| \n",
    "| Total                      |   5           |           |              |"
   ]
  },
  {
   "cell_type": "markdown",
   "metadata": {},
   "source": [
    "| **Assignment**          | **Weightage** | **Grade** | **Comments** |\n",
    "|-------------------------|---------------|-----------|--------------|\n",
    "| College Board Coverage  | 20            | TBD       | TBD          |\n",
    "| Java Examples           | 30            | TBD       | TBD          |\n",
    "| Popcorn Hack Usage      | 10            | TBD       | TBD          |\n",
    "| Homework                | 10            | TBD       | TBD          |\n",
    "| Grading Plan            | 10            | TBD       | TBD          |\n",
    "| Original an Creative    | 10            | TBD       | TBD          |\n",
    "| Total                  | **90**        |           |              |"
   ]
  }
 ],
 "metadata": {
  "language_info": {
   "name": "python"
  }
 },
 "nbformat": 4,
 "nbformat_minor": 2
}
