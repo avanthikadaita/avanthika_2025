{
 "cells": [
  {
   "cell_type": "markdown",
   "metadata": {},
   "source": [
    "---\n",
    "layout: post\n",
    "type: collab\n",
    "title: Unit 4 - HW Quiz\n",
    "description: Unit 4 Team Teach HW QUIZ\n",
    "comments: true\n",
    "permalink: /csa/unit4-p1/unit4-hwquiz\n",
    "menu: nav/CSA_Units/csa_unit4_p1.html\n",
    "author: hanlun, saaras, arthur, miheer, eshaan, beijan\n",
    "---"
   ]
  },
  {
   "cell_type": "markdown",
   "metadata": {},
   "source": [
    "## Unit 4 - Iteration:\n",
    "- This is the homework quiz for unit 4, iterations\n",
    "- 4 multiple choice questions\n",
    "- 2 programming hacks\n",
    "- 1 bonus programming hack (required to get above 0.9)"
   ]
  },
  {
   "cell_type": "markdown",
   "metadata": {},
   "source": [
    "### Question 1:\n",
    "What does the following code print?   \n",
    "\n",
    "A. 5 6 7 8 9   \n",
    "\n",
    "B. 4 5 6 7 8 9 10 11 12   \n",
    "\n",
    "C. 3 5 7 9 11   \n",
    "\n",
    "D. 3 4 5 6 7 8 9 10 11 12   \n",
    "\n",
    "<details>\n",
    "<summary>Click to reveal answer:</summary> \n",
    "  D\n",
    "</details>\n",
    "\n",
    "Explain your answer. (explanation is graded not answer)"
   ]
  },
  {
   "cell_type": "code",
   "execution_count": 9,
   "metadata": {},
   "outputs": [
    {
     "name": "stdout",
     "output_type": "stream",
     "text": [
      "3 4 5 6 7 8 9 10 11 12 "
     ]
    }
   ],
   "source": [
    "for (int i = 3; i <= 12; i++) {\n",
    "   System.out.print(i + \" \");\n",
    "}"
   ]
  },
  {
   "cell_type": "markdown",
   "metadata": {},
   "source": [
    "Answer: D. The loop starts at 3 and goes up to 12, printing each number on the same line.\n",
    "\n",
    "Explanation: The loop initializes i at 3 and increments i until it reaches 12. All numbers from 3 to 12 are printed in order."
   ]
  },
  {
   "cell_type": "markdown",
   "metadata": {},
   "source": [
    "### Bonus:\n",
    "- Explain the difference between using a variable like i inside a for loop, vs. using a variable that exists in the code itself for a while loop"
   ]
  },
  {
   "cell_type": "markdown",
   "metadata": {},
   "source": [
    "### Question 2:\n",
    "How many times does the following method print a \"*\" ?\n",
    "\n",
    "A. 9\n",
    "\n",
    "B. 7\n",
    "\n",
    "C. 8\n",
    "\n",
    "D. 6\n",
    "\n",
    "<details>\n",
    "<summary>Click to reveal answer:</summary> \n",
    "  C\n",
    "</details>\n",
    "\n",
    "Explain your answer. (explanation is graded not answer)"
   ]
  },
  {
   "cell_type": "code",
   "execution_count": 10,
   "metadata": {},
   "outputs": [
    {
     "name": "stdout",
     "output_type": "stream",
     "text": [
      "********"
     ]
    }
   ],
   "source": [
    "for (int i = 3; i < 11; i++) {\n",
    "   System.out.print(\"*\");\n",
    "}"
   ]
  },
  {
   "cell_type": "markdown",
   "metadata": {},
   "source": [
    "Answer: C. The loop runs 8 times (from 3 to 10).\n",
    "\n",
    "Explanation: The loop runs as long as i is less than 11. Since it starts at 3 and ends at 10, it iterates 8 times."
   ]
  },
  {
   "cell_type": "markdown",
   "metadata": {},
   "source": [
    "### Question 3:\n",
    "What does the following code print?\n",
    "\n",
    "A. -4 -3 -2 -1 0\n",
    "\n",
    "B. -5 -4 -3 -2 -1\n",
    "\n",
    "C. 5 4 3 2 1\n",
    "\n",
    "<details>\n",
    "<summary>Click to reveal answer:</summary> \n",
    "  A\n",
    "</details>\n",
    "\n",
    "Explain your answer. (explanation is graded not answer)"
   ]
  },
  {
   "cell_type": "code",
   "execution_count": 11,
   "metadata": {},
   "outputs": [
    {
     "name": "stdout",
     "output_type": "stream",
     "text": [
      "-4 -3 -2 -1 0 "
     ]
    }
   ],
   "source": [
    "int x = -5;\n",
    "while (x < 0)\n",
    "{\n",
    "   x++;\n",
    "   System.out.print(x + \" \");\n",
    "}"
   ]
  },
  {
   "cell_type": "markdown",
   "metadata": {},
   "source": [
    "Answer: A. The loop prints -4 -3 -2 -1 0.\n",
    "\n",
    "Explanation: The loop increments x by 1 each time, starting from -5. The condition is x < 0, so it stops once x reaches 0."
   ]
  },
  {
   "cell_type": "markdown",
   "metadata": {},
   "source": [
    "### Question 4:\n",
    "What does the following code print?\n",
    "\n",
    "A. 20\n",
    "\n",
    "B. 21\n",
    "\n",
    "C. 25\n",
    "\n",
    "D. 30\n",
    "\n",
    "<details>\n",
    "<summary>Click to reveal answer:</summary> \n",
    "  B\n",
    "</details>\n",
    "\n",
    "Explain your answer. (explanation is graded not answer)"
   ]
  },
  {
   "cell_type": "code",
   "execution_count": 12,
   "metadata": {},
   "outputs": [
    {
     "name": "stdout",
     "output_type": "stream",
     "text": [
      "21\n"
     ]
    }
   ],
   "source": [
    "int sum = 0;\n",
    "\n",
    "for (int i = 1; i <= 5; i++) {\n",
    "    if (i % 2 == 0) {\n",
    "        sum += i * 2;\n",
    "    } else {\n",
    "        sum += i;\n",
    "    }\n",
    "}\n",
    "\n",
    "System.out.println(sum);"
   ]
  },
  {
   "cell_type": "markdown",
   "metadata": {},
   "source": [
    "Answer: B. The sum equals 21.\n",
    "\n",
    "Explanation: For each odd number, the number itself is added to sum, and for each even number, double the value is added. This results in 1 + 4 + 3 + 8 + 5 = 21."
   ]
  },
  {
   "cell_type": "markdown",
   "metadata": {},
   "source": [
    "## Loops HW Hack"
   ]
  },
  {
   "cell_type": "markdown",
   "metadata": {},
   "source": [
    "### Easy Hack\n",
    "- Use a while loop to find the numbers from 1-50 that are divisible by 3 or 5, then store them into a list (make sure to print it out at the end)\n",
    "- Use a for loop to do the same thing detailed above"
   ]
  },
  {
   "cell_type": "code",
   "execution_count": 13,
   "metadata": {},
   "outputs": [
    {
     "name": "stdout",
     "output_type": "stream",
     "text": [
      "[3, 5, 6, 9, 10, 12, 15, 18, 20, 21, 24, 25, 27, 30, 33, 35, 36, 39, 40, 42, 45, 48, 50]\n"
     ]
    }
   ],
   "source": [
    "import java.util.ArrayList;\n",
    "\n",
    "public class Main {\n",
    "    public static void main(String[] args) {\n",
    "        ArrayList<Integer> divisible = new ArrayList<>();\n",
    "        int num = 1;\n",
    "        while (num <= 50) {\n",
    "            if (num % 3 == 0 || num % 5 == 0) {\n",
    "                divisible.add(num);\n",
    "            }\n",
    "            num++;\n",
    "        }\n",
    "        System.out.println(divisible);\n",
    "    }\n",
    "}\n",
    "\n",
    "Main.main(null);"
   ]
  },
  {
   "cell_type": "code",
   "execution_count": 14,
   "metadata": {},
   "outputs": [
    {
     "name": "stdout",
     "output_type": "stream",
     "text": [
      "[3, 5, 6, 9, 10, 12, 15, 18, 20, 21, 24, 25, 27, 30, 33, 35, 36, 39, 40, 42, 45, 48, 50]\n"
     ]
    }
   ],
   "source": [
    "import java.util.ArrayList;\n",
    "\n",
    "public class Main {\n",
    "    public static void main(String[] args) {\n",
    "        ArrayList<Integer> divisible = new ArrayList<>();\n",
    "        for (int num = 1; num <= 50; num++) {\n",
    "            if (num % 3 == 0 || num % 5 == 0) {\n",
    "                divisible.add(num);\n",
    "            }\n",
    "        }\n",
    "        System.out.println(divisible);\n",
    "    }\n",
    "}\n",
    "Main.main(null);"
   ]
  },
  {
   "cell_type": "markdown",
   "metadata": {},
   "source": [
    "### Harder Hack\n",
    "#### Palindromes are numbers that have the same value when reversed (ex: “123321” or “323”). Create a program that uses a while loop that outputs all palindromes in any given list. \n",
    "\n",
    "Sample Input: \n",
    "test_list = [5672, 235, 5537, 6032, 317, 8460, 1672, 8104, 7770, 4442, 913, 2508, 1116, 9969, 9091, 522, 8756, 9527, 7968, 1520, 4444, 515, 2882, 6556, 595]\n",
    "\n",
    "Sample Output:\n",
    "4444, 515, 2882, 6556, 595"
   ]
  },
  {
   "cell_type": "code",
   "execution_count": 15,
   "metadata": {},
   "outputs": [
    {
     "name": "stdout",
     "output_type": "stream",
     "text": [
      "4444 515 2882 6556 595 "
     ]
    }
   ],
   "source": [
    "import java.util.ArrayList;\n",
    "\n",
    "public class PalindromeFinder {\n",
    "    public static void main(String[] args) {\n",
    "        int[] testList = {5672, 235, 5537, 6032, 317, 8460, 1672, 8104, 7770, 4442, 913, 2508, 1116, 9969, 9091, 522, 8756, 9527, 7968, 1520, 4444, 515, 2882, 6556, 595};\n",
    "        ArrayList<Integer> palindromes = new ArrayList<>();\n",
    "        \n",
    "        int index = 0;\n",
    "        while (index < testList.length) {\n",
    "            if (isPalindrome(testList[index])) {\n",
    "                palindromes.add(testList[index]);\n",
    "            }\n",
    "            index++;\n",
    "        }\n",
    "        \n",
    "        for (int num : palindromes) {\n",
    "            System.out.print(num + \" \");\n",
    "        }\n",
    "    }\n",
    "\n",
    "    public static boolean isPalindrome(int num) {\n",
    "        String str = Integer.toString(num);\n",
    "        String reversed = new StringBuilder(str).reverse().toString();\n",
    "        return str.equals(reversed);\n",
    "    }\n",
    "}\n",
    "\n",
    "PalindromeFinder.main(null);"
   ]
  },
  {
   "cell_type": "markdown",
   "metadata": {},
   "source": [
    "## Bonus Hack (for above 0.9)\n",
    "### Use a for loop to output a spiral matrix with size n\n",
    "Example:\n",
    "\n",
    "Sample Input: n = 3\n",
    "\n",
    "Output: [[1, 2, 3], [8, 9, 4], [7, 6, 5]]"
   ]
  },
  {
   "cell_type": "code",
   "execution_count": 16,
   "metadata": {},
   "outputs": [
    {
     "name": "stdout",
     "output_type": "stream",
     "text": [
      "[1, 2, 3]\n",
      "[8, 9, 4]\n",
      "[7, 6, 5]\n"
     ]
    }
   ],
   "source": [
    "import java.util.Arrays;\n",
    "\n",
    "public class SpiralMatrix {\n",
    "    public static void main(String[] args) {\n",
    "        int n = 3;\n",
    "        int[][] matrix = generateSpiralMatrix(n);\n",
    "\n",
    "        for (int[] row : matrix) {\n",
    "            System.out.println(Arrays.toString(row));\n",
    "        }\n",
    "    }\n",
    "\n",
    "    public static int[][] generateSpiralMatrix(int n) {\n",
    "        int[][] matrix = new int[n][n];\n",
    "        int value = 1;\n",
    "        int top = 0, bottom = n - 1, left = 0, right = n - 1;\n",
    "\n",
    "        while (value <= n * n) {\n",
    "            for (int i = left; i <= right; i++) {\n",
    "                matrix[top][i] = value++;\n",
    "            }\n",
    "            top++;\n",
    "\n",
    "            for (int i = top; i <= bottom; i++) {\n",
    "                matrix[i][right] = value++;\n",
    "            }\n",
    "            right--;\n",
    "\n",
    "            for (int i = right; i >= left; i--) {\n",
    "                matrix[bottom][i] = value++;\n",
    "            }\n",
    "            bottom--;\n",
    "\n",
    "            for (int i = bottom; i >= top; i--) {\n",
    "                matrix[i][left] = value++;\n",
    "            }\n",
    "            left++;\n",
    "        }\n",
    "\n",
    "        return matrix;\n",
    "    }\n",
    "}\n",
    "\n",
    "SpiralMatrix.main(null);"
   ]
  }
 ],
 "metadata": {
  "kernelspec": {
   "display_name": "Java",
   "language": "java",
   "name": "java"
  },
  "language_info": {
   "codemirror_mode": "java",
   "file_extension": ".jshell",
   "mimetype": "text/x-java-source",
   "name": "java",
   "pygments_lexer": "java",
   "version": "17.0.12+0"
  }
 },
 "nbformat": 4,
 "nbformat_minor": 2
}
