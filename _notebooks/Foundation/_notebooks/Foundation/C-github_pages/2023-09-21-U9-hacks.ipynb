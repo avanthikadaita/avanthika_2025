{
 "cells": [
  {
   "cell_type": "markdown",
   "metadata": {},
   "source": [
    "---\n",
    "layout: post\n",
    "title:  Hacks\n",
    "description: Hacks Menu\n",
    "courses: { csse: {week: 1}, csp: {week: 1}, csa: {week: 1} }\n",
    "categories: [DevOps]\n",
    "permalink: /inheritance-hacks\n",
    "menu: nav/inheritance.html\n",
    "comments: true\n",
    "sticky_rank: 1\n",
    "---"
   ]
  },
  {
   "cell_type": "markdown",
   "metadata": {},
   "source": [
    "# 9.1 Hacks\n",
    "\n",
    "- Implement two new subclasses, Circle and Hexagon, extending from the Shape class. Each shape should have a method to calculate its area and should override the print_something() method to print something unique for that shape. Follow the same structure as the Rectangle and Triangle classes!\n",
    "\n",
    "- Optional!\n",
    "- Create a new subclass called Ellipse that extends Shape. Update Your Driver Code\n",
    "\n",
    "- Constructor: Implement a constructor for Ellipse that accepts parameters for name, length, and width. This constructor should call the superclass constructor using super().\n",
    "\n",
    "\n",
    "\n",
    "\n",
    "- Test the Ellipse: Instantiate an Ellipse object and print its area. Verify that the constructor correctly initializes the shape and that the super() keyword is used properly.\n",
    "Hints:\n",
    "\n",
    "- Ellipse Constructor: Use super(name, length, width) to initialize inherited fields.\n",
    "Check Order: Remember, super() must be the first statement in your subclass constructor.\n"
   ]
  },
  {
   "cell_type": "code",
   "execution_count": null,
   "metadata": {},
   "outputs": [],
   "source": [
    "class Shape {\n",
    "    String name;\n",
    "\n",
    "    public Shape(String name) {\n",
    "        this.name = name;\n",
    "    }\n",
    "\n",
    "    public void print_something() {\n",
    "        System.out.println(\"This is a shape.\");\n",
    "    }\n",
    "\n",
    "    public double calc_area() {\n",
    "        return 0.0;\n",
    "    }\n",
    "}"
   ]
  },
  {
   "cell_type": "code",
   "execution_count": null,
   "metadata": {},
   "outputs": [],
   "source": [
    "class Circle extends Shape {\n",
    "    double radius;\n",
    "\n",
    "    public Circle(String name, double radius) {\n",
    "        super(name);\n",
    "        this.radius = radius;\n",
    "    }\n",
    "\n",
    "    @Override\n",
    "    public double calc_area() {\n",
    "        return Math.PI * radius * radius;\n",
    "    }\n",
    "\n",
    "    @Override\n",
    "    public void print_something() {\n",
    "        super.print_something();\n",
    "        System.out.println(\"This is a circle.\");\n",
    "    }\n",
    "}"
   ]
  },
  {
   "cell_type": "code",
   "execution_count": null,
   "metadata": {},
   "outputs": [],
   "source": [
    "class Hexagon extends Shape {\n",
    "    double side;\n",
    "\n",
    "    public Hexagon(String name, double side) {\n",
    "        super(name);\n",
    "        this.side = side;\n",
    "    }\n",
    "\n",
    "    @Override\n",
    "    public double calc_area() {\n",
    "        return (3 * Math.sqrt(3) / 2) * side * side;\n",
    "    }\n",
    "\n",
    "    @Override\n",
    "    public void print_something() {\n",
    "        super.print_something();\n",
    "        System.out.println(\"This is a hexagon.\");\n",
    "    }\n",
    "}"
   ]
  },
  {
   "cell_type": "code",
   "execution_count": null,
   "metadata": {},
   "outputs": [],
   "source": [
    "public class Main {\n",
    "    public static void main(String[] args) {\n",
    "        Circle myCircle = new Circle(\"Circle\", 5);\n",
    "        System.out.println(\"Circle Area: \" + myCircle.calc_area());\n",
    "        myCircle.print_something();\n",
    "\n",
    "        Hexagon myHexagon = new Hexagon(\"Hexagon\", 6);\n",
    "        System.out.println(\"Hexagon Area: \" + myHexagon.calc_area());\n",
    "        myHexagon.print_something();\n",
    "    }\n",
    "}"
   ]
  },
  {
   "cell_type": "markdown",
   "metadata": {},
   "source": [
    "# 9.3 Hacks\n",
    "\n",
    "- When overriding the area method for both the Ellipse and the Hexagon use the `@Override` notation. \n",
    "- For the area of the hexagon it may be useful to look into the [hexagon area formula](https://www.cuemath.com/measurement/area-of-a-hexagon/):\n",
    "\n",
    "Area = (3√3 / 2) * s²\n",
    "- Also override the `calc_perimeter()` method for both shapes.\n",
    "- use the super keyword to have both shaps use both the parent `print_something()` and child `print_something()` method\n",
    "    Both shapes should print out something along the lines of: \"This is a shape and also a hexagon\""
   ]
  },
  {
   "cell_type": "code",
   "execution_count": null,
   "metadata": {},
   "outputs": [],
   "source": [
    "@Override\n",
    "public double calc_perimeter() {\n",
    "    return 6 * side;\n",
    "}"
   ]
  },
  {
   "cell_type": "code",
   "execution_count": null,
   "metadata": {},
   "outputs": [],
   "source": [
    "@Override\n",
    "public double calc_perimeter() {\n",
    "    return 2 * Math.PI * radius;\n",
    "}"
   ]
  },
  {
   "cell_type": "markdown",
   "metadata": {},
   "source": [
    "# 9.5 Hacks\n",
    "\n",
    "\n",
    "Let's implement the `Triangle` subclass to deepen your understanding. Below is a half-completed method for the `Triangle` class. Your task is to complete the `draw` method. Make sure your implementation returns a unique string for the `Triangle` class. This exercise will help reinforce how subclasses can extend functionality.\n",
    "\n",
    "### Advanced Challenge: Area Calculation\n",
    "Now, let’s enhance our `Shape` class to include an area calculation feature. Modify the `Shape` class to include an `area` method, and implement it in your subclasses. Below is a structure to help you get started: Ensure each subclass calculates and returns its area correctly. This will allow you to practice method overriding further and understand how different shapes can extend base functionalities.\n",
    "\n",
    "\n",
    "## Homework Hack\n",
    "For your homework, create your own class hierarchy for shapes. You should have a base class called `Shape` with subclasses `Triangle`, `Rectangle`, and `Hexagon`. Each subclass should implement a method called `draw()`, returning a unique string for each shape type.\n",
    "\n",
    "    - `Triangle`: \"Drawing a triangle.\"\n",
    "\n",
    "    - `Rectangle`: \"Drawing a rectangle.\"\n",
    "\n",
    "    - `Hexagon`: \"Drawing a hexagon.\"\n",
    "\n",
    "Make sure to demonstrate polymorphism by creating an array of `Shape` types and iterating through it to call the `draw()` method. This will reinforce your understanding of class hierarchies and method overriding."
   ]
  },
  {
   "cell_type": "code",
   "execution_count": null,
   "metadata": {},
   "outputs": [],
   "source": [
    "class Triangle extends Shape {\n",
    "    double base;\n",
    "    double height;\n",
    "\n",
    "    public Triangle(String name, double base, double height) {\n",
    "        super(name);\n",
    "        this.base = base;\n",
    "        this.height = height;\n",
    "    }\n",
    "\n",
    "    @Override\n",
    "    public double calc_area() {\n",
    "        return 0.5 * base * height;\n",
    "    }\n",
    "\n",
    "    @Override\n",
    "    public void print_something() {\n",
    "        super.print_something();\n",
    "        System.out.println(\"This is a triangle.\");\n",
    "    }\n",
    "}"
   ]
  },
  {
   "cell_type": "markdown",
   "metadata": {},
   "source": [
    "# 9.6 Hacks\n",
    "* using a previous example of inheritance create an example of polymorphsim, or create an example of polymorphic behavhoir between two classes of **Shape** and **Sqaure**\n",
    "* Using the previous polymorphism popcorn hack, explain which parts are static and dynamic data types and when that is the case\n",
    "* Define **Down-Casting** in your own words\n",
    "* using the previous polymorphism example add an example of down-casting."
   ]
  },
  {
   "cell_type": "code",
   "execution_count": null,
   "metadata": {},
   "outputs": [],
   "source": [
    "class Square extends Shape {\n",
    "    double side;\n",
    "\n",
    "    public Square(String name, double side) {\n",
    "        super(name);\n",
    "        this.side = side;\n",
    "    }\n",
    "\n",
    "    @Override\n",
    "    public double calc_area() {\n",
    "        return side * side;\n",
    "    }\n",
    "\n",
    "    @Override\n",
    "    public void print_something() {\n",
    "        System.out.println(\"This is a square.\");\n",
    "    }\n",
    "}\n",
    "\n",
    "public class PolymorphismExample {\n",
    "    public static void main(String[] args) {\n",
    "        Shape myShape = new Square(\"Square\", 4);\n",
    "\n",
    "        // Polymorphism in action\n",
    "        myShape.print_something();  // Calls Square's method\n",
    "        System.out.println(\"Area: \" + myShape.calc_area());\n",
    "    }\n",
    "}\n"
   ]
  },
  {
   "cell_type": "code",
   "execution_count": null,
   "metadata": {},
   "outputs": [],
   "source": [
    "if (myShape instanceof Square) {\n",
    "    Square squareShape = (Square) myShape; // Downcasting to Square\n",
    "    squareShape.print_something();\n",
    "}\n"
   ]
  },
  {
   "cell_type": "markdown",
   "metadata": {},
   "source": [
    "Explanation of Downcasting\n",
    "Downcasting is the process of converting a reference of a superclass type into one of its subclass types, typically to access subclass-specific methods."
   ]
  },
  {
   "cell_type": "markdown",
   "metadata": {},
   "source": [
    "# 9.7 Hacks\n",
    "* Create an class where you execute an unchanged method from *Object*, then execute a different method from *Object* that you changed."
   ]
  },
  {
   "cell_type": "markdown",
   "metadata": {},
   "source": [
    "### FRQ Prompt\n",
    "\n",
    "**Consider a program that manages a collection of books, specifically focusing on textbooks. You are required to implement a class named `Textbook` that extends an existing class called `Book`. The `Textbook` class should include the following features:**\n",
    "\n",
    "1. A private integer field named `edition` that represents the edition number of the textbook.\n",
    "2. A constructor that takes three parameters: a string for the title, a double for the price, and an integer for the edition. This constructor should invoke the superclass constructor to initialize the title and price.\n",
    "3. A method `getEdition()` that returns the edition of the textbook.\n",
    "4. A method `canSubstituteFor(Textbook other)` that determines if the current textbook can be substituted for another textbook. This method should return true if both textbooks have the same title and the current textbook's edition is equal to or greater than the other textbook's edition.\n",
    "5. An overridden method `getBookInfo()` that returns a string representation of the textbook information, including the title, price, and edition.\n",
    "6. Optional: Include error handling in the constructor to ensure that the edition is a positive integer, and override the `toString()` method for convenient output of the textbook information.\n",
    "\n",
    "Write the complete implementation of the `Textbook` class, including all specified methods and any additional features you believe would be beneficial.\n"
   ]
  },
  {
   "cell_type": "code",
   "execution_count": null,
   "metadata": {},
   "outputs": [],
   "source": [
    "class CustomShape {\n",
    "    @Override\n",
    "    public String toString() {\n",
    "        return \"CustomShape Object\";\n",
    "    }\n",
    "}\n",
    "\n",
    "public class ObjectClassMethods {\n",
    "    public static void main(String[] args) {\n",
    "        CustomShape myShape = new CustomShape();\n",
    "\n",
    "        // Calling unchanged method from Object: getClass()\n",
    "        System.out.println(\"Class: \" + myShape.getClass());\n",
    "\n",
    "        // Calling overridden method: toString()\n",
    "        System.out.println(myShape.toString());\n",
    "    }\n",
    "}\n"
   ]
  },
  {
   "cell_type": "code",
   "execution_count": null,
   "metadata": {},
   "outputs": [],
   "source": [
    "class Book {\n",
    "    String title;\n",
    "    double price;\n",
    "\n",
    "    public Book(String title, double price) {\n",
    "        this.title = title;\n",
    "        this.price = price;\n",
    "    }\n",
    "\n",
    "    public String getBookInfo() {\n",
    "        return title + \": $\" + price;\n",
    "    }\n",
    "}\n",
    "\n",
    "class Textbook extends Book {\n",
    "    private int edition;\n",
    "\n",
    "    public Textbook(String title, double price, int edition) {\n",
    "        super(title, price);\n",
    "        if (edition > 0) {\n",
    "            this.edition = edition;\n",
    "        } else {\n",
    "            throw new IllegalArgumentException(\"Edition must be positive\");\n",
    "        }\n",
    "    }\n",
    "\n",
    "    public int getEdition() {\n",
    "        return edition;\n",
    "    }\n",
    "\n",
    "    public boolean canSubstituteFor(Textbook other) {\n",
    "        return this.title.equals(other.title) && this.edition >= other.edition;\n",
    "    }\n",
    "\n",
    "    @Override\n",
    "    public String getBookInfo() {\n",
    "        return super.getBookInfo() + \", Edition: \" + edition;\n",
    "    }\n",
    "\n",
    "    @Override\n",
    "    public String toString() {\n",
    "        return getBookInfo();\n",
    "    }\n",
    "}\n"
   ]
  },
  {
   "cell_type": "markdown",
   "metadata": {},
   "source": [
    "## Multiple Choice\n",
    "### 1. What is wrong with this block of code?"
   ]
  },
  {
   "cell_type": "code",
   "execution_count": null,
   "metadata": {},
   "outputs": [],
   "source": [
    "class Shape{\n",
    "    private double length = 0;\n",
    "    private double width = 0;\n",
    "    \n",
    "    public Shape(double length, double width){\n",
    "        this.length = length;\n",
    "        this.width = width;\n",
    "    }\n",
    "\n",
    "    public double getArea(){\n",
    "        return this.length * this.width;\n",
    "    }\n",
    "\n",
    "    private String toString(){\n",
    "        return \"Shape length:\"+ (new Double(this.length)).toString() + \" width:\" + (new Double(this.width)).toString();\n",
    "    }\n",
    "}\n",
    "\n",
    "Shape myShape = new Shape(2,3);\n",
    "\n",
    "System.out.println(myShape.getArea());"
   ]
  },
  {
   "cell_type": "markdown",
   "metadata": {},
   "source": [
    "a) You can't use the **this** keyword in the constructor\n",
    "\n",
    "b) When passing a **double** through an argument it must be in the form of 0.0\n",
    "\n",
    "c) The **toString()** method must be public\n",
    "\n",
    "d) The **getArea()** method doesn't return a double\n",
    "\n",
    "\n",
    "### The correct answer is c: The toString() method must be public\n",
    "\n",
    "\n",
    "### 2. Which method cannot be exectuted in the following example of Polymorphism"
   ]
  },
  {
   "cell_type": "code",
   "execution_count": null,
   "metadata": {},
   "outputs": [],
   "source": [
    "class Water{\n",
    "    public String toString(){\n",
    "        return \"Water\";\n",
    "    }\n",
    "\n",
    "    private boolean isSalty(){\n",
    "        return false;\n",
    "    }\n",
    "\n",
    "    public String typeOfWater(){\n",
    "        return \"Static\";\n",
    "    }\n",
    "\n",
    "}\n",
    "\n",
    "class Lake extends Water{\n",
    "    public String toString(){\n",
    "        return \"Lake\";\n",
    "    }\n",
    "\n",
    "    public boolean isSalty(){\n",
    "        return true;\n",
    "    }\n",
    "}\n",
    "\n",
    "Water myLakeWater = new Lake();"
   ]
  },
  {
   "cell_type": "markdown",
   "metadata": {},
   "source": [
    "a) **typeOfWater()**\n",
    "\n",
    "b) **isSalty()**\n",
    "\n",
    "c) **toString()**\n",
    "\n",
    "d) **getClass()**\n",
    "\n",
    "\n",
    "\n",
    "### The correct answer is b isSalty()"
   ]
  }
 ],
 "metadata": {
  "kernelspec": {
   "display_name": "java (IJava/j!)",
   "language": "java",
   "name": "jbang-ijava"
  },
  "language_info": {
   "codemirror_mode": "java",
   "file_extension": ".jshell",
   "mimetype": "text/x-java-source",
   "name": "java",
   "pygments_lexer": "java",
   "version": "17.0.12+7-Ubuntu-1ubuntu222.04"
  }
 },
 "nbformat": 4,
 "nbformat_minor": 2
}
